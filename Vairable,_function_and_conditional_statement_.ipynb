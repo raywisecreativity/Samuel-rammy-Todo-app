{
  "nbformat": 4,
  "nbformat_minor": 0,
  "metadata": {
    "colab": {
      "provenance": [],
      "authorship_tag": "ABX9TyOJSIVraDGoB0UsS4qF6Xq5",
      "include_colab_link": true
    },
    "kernelspec": {
      "name": "python3",
      "display_name": "Python 3"
    },
    "language_info": {
      "name": "python"
    }
  },
  "cells": [
    {
      "cell_type": "markdown",
      "metadata": {
        "id": "view-in-github",
        "colab_type": "text"
      },
      "source": [
        "<a href=\"https://colab.research.google.com/github/raywisecreativity/Samuel-rammy-Todo-app/blob/main/Vairable%2C_function_and_conditional_statement_.ipynb\" target=\"_parent\"><img src=\"https://colab.research.google.com/assets/colab-badge.svg\" alt=\"Open In Colab\"/></a>"
      ]
    },
    {
      "cell_type": "code",
      "source": [
        "// Function to calculate grade\n",
        "function calculateGrade(score) {\n",
        "    // Conditional statements to determine grades\n",
        "    if (score >= 90) {\n",
        "        return \"A\";\n",
        "    } else if (score >= 80) {\n",
        "        return \"B\";\n",
        "    } else if (score >= 70) {\n",
        "        return \"C\";\n",
        "    } else if (score >= 60) {\n",
        "        return \"D\";\n",
        "    } else {\n",
        "        return \"F\";\n",
        "    }\n",
        "}\n",
        "\n",
        "// Function to check if the student passed\n",
        "function didPass(grade) {\n",
        "    if (grade === \"F\") {\n",
        "        return false;\n",
        "    } else {\n",
        "        return true;\n",
        "    }\n",
        "}\n",
        "\n",
        "// Main program\n",
        "// Input: Student name and score\n",
        "let studentName = prompt(\"Enter student name: \");\n",
        "let score = parseInt(prompt(\"Enter score: \"));\n",
        "\n",
        "// Call functions\n",
        "let grade = calculateGrade(score);\n",
        "let passed = didPass(grade);\n",
        "\n",
        "// Display results\n",
        "console.log(`Student Name: ${studentName}`);\n",
        "console.log(`Score: ${score}`);\n",
        "console.log(`Grade: ${grade}`);\n",
        "\n",
        "if (passed) {\n",
        "    console.log(`${studentName} has passed!`);\n",
        "} else {\n",
        "    console.log(`${studentName} has failed.`);\n",
        "}\n"
      ],
      "metadata": {
        "id": "2p40sN6L4qF7"
      },
      "execution_count": null,
      "outputs": []
    },
    {
      "cell_type": "code",
      "source": [
        "Enter student name: John\n",
        "Enter score: 88\n",
        "Student Name: John\n",
        "Score: 88\n",
        "Grade: B\n",
        "John has passed!\n"
      ],
      "metadata": {
        "id": "ZSOmVbXp4prR"
      },
      "execution_count": null,
      "outputs": []
    }
  ]
}